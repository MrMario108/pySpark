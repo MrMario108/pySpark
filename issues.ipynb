{
 "cells": [
  {
   "cell_type": "markdown",
   "metadata": {},
   "source": [
    "ISSUE CASE STUDY"
   ]
  },
  {
   "cell_type": "markdown",
   "metadata": {},
   "source": [
    "I. BŁĘDNE RZUTOWANIE TYPÓW ZMIENNYCH \n",
    "    java.sql.SQLException: Bad value for type BigDecimal : 2A"
   ]
  },
  {
   "cell_type": "markdown",
   "metadata": {},
   "source": [
    "ROZPOZNANIE:\n",
    "\n",
    "    SqLite wyświetla schemat tabeli 'seats' w następujący sposób:\n",
    "        sqlite> pragma table_info(seats);\n",
    "        0|aircraft_code|character(3)|1||0\n",
    "        1|seat_no|character varying(4)|1||0\n",
    "        2|fare_conditions|character varying(10)|1||0\n",
    "\n",
    "    natomiast PySpark:\n",
    "       root\n",
    "        |-- aircraft_code: string (nullable = true)\n",
    "        |-- seat_no: decimal(4,0) (nullable = true)\n",
    "        |-- fare_conditions: decimal(10,0) (nullable = true)"
   ]
  },
  {
   "cell_type": "code",
   "execution_count": null,
   "metadata": {},
   "outputs": [],
   "source": [
    "from pyspark.sql import SparkSession\n",
    "from pyspark.sql.functions import *\n",
    "from pyspark.sql.types import *"
   ]
  },
  {
   "cell_type": "markdown",
   "metadata": {},
   "source": [
    "ROZWIĄZANIE 1:\n",
    "    "
   ]
  },
  {
   "cell_type": "code",
   "execution_count": null,
   "metadata": {},
   "outputs": [],
   "source": [
    "from pyspark.sql.types import StructType, StructField, StringType\n",
    "\n",
    "# Definiujemy poprawny schemat ręcznie\n",
    "schema = StructType([\n",
    "    StructField(\"aircraft_code\", StringType(), True),\n",
    "    StructField(\"seat_no\", StringType(), True),  # Wymuszamy STRING, a nie DECIMAL\n",
    "    StructField(\"fare_conditions\", StringType(), True)\n",
    "])\n",
    "\n",
    "# Odczytujemy tabelę z wymuszonym schematem\n",
    "df = spark.read.format(\"jdbc\") \\\n",
    "    .option(\"url\", \"jdbc:sqlite:/ścieżka/do/bazy.db\") \\\n",
    "    .option(\"dbtable\", \"seats\") \\\n",
    "    .option(\"driver\", \"org.sqlite.JDBC\") \\\n",
    "    .schema(schema) \\\n",
    "    .load()\n",
    "\n",
    "df.printSchema()\n",
    "df.show()"
   ]
  },
  {
   "cell_type": "markdown",
   "metadata": {},
   "source": [
    "BRAK ROZWIĄZANIA. NIE MOŻNA PRZYPISAĆ SCHEMATU DO ISTNIEJĄCEJ TABELI."
   ]
  },
  {
   "cell_type": "markdown",
   "metadata": {},
   "source": [
    "ROZWIĄZANIE 2:"
   ]
  },
  {
   "cell_type": "code",
   "execution_count": null,
   "metadata": {},
   "outputs": [],
   "source": [
    "df_fixed = dfs[\"seats\"].withColumn(\"seat_no\", col(\"seat_no\").cast(\"string\")) \\\n",
    "            .withColumn(\"fare_conditions\", col(\"fare_conditions\").cast(\"string\")).show(5, False)"
   ]
  },
  {
   "cell_type": "markdown",
   "metadata": {},
   "source": [
    "Utworzenie nowego DataFrame ze zmienionym typem danych niestety powoduje znowu wystąpienie tego samego błędu"
   ]
  },
  {
   "cell_type": "markdown",
   "metadata": {},
   "source": [
    "ROZWIĄZANIE 3:"
   ]
  },
  {
   "cell_type": "markdown",
   "metadata": {},
   "source": [
    "Zmiana wersji sqlite-jdbc z 3.49.1.0 na 3.34.0 nie wniosła nic."
   ]
  },
  {
   "cell_type": "markdown",
   "metadata": {},
   "source": [
    "ROZWIĄZANIE 4:"
   ]
  },
  {
   "cell_type": "markdown",
   "metadata": {},
   "source": [
    "Utworzenie nowej bazy danych z podstawowymi typami dancyh dla SQLite jak TEXT i INTEGER rozwiązało kłopoty."
   ]
  }
 ],
 "metadata": {
  "kernelspec": {
   "display_name": ".venv",
   "language": "python",
   "name": "python3"
  },
  "language_info": {
   "name": "python",
   "version": "3.12.3"
  }
 },
 "nbformat": 4,
 "nbformat_minor": 2
}
